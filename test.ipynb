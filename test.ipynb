{
 "cells": [
  {
   "cell_type": "code",
   "execution_count": null,
   "metadata": {
    "vscode": {
     "languageId": "plaintext"
    }
   },
   "outputs": [
    {
     "ename": "",
     "evalue": "",
     "output_type": "error",
     "traceback": [
      "\u001b[1;31mFailed to connect to the remote Jupyter Server 'http://127.0.0.1:8888/'. Verify the server is running and reachable. (Kernel not initialized in Session)."
     ]
    }
   ],
   "source": [
    "// A BraneScript workflow for printing \"Hello, world!\" to the screen.\n",
    "\n",
    "// Define which packages we use, which makes its functions available ('hello_world()', in this case)\n",
    "import hello_world;\n",
    "\n",
    "// Prints the result of the 'hello_world()' call by using the 'println()' builtin\n",
    "println(hello_world());"
   ]
  }
 ],
 "metadata": {
  "kernelspec": {
   "display_name": "BraneScript",
   "language": "BraneScript",
   "name": "bscript"
  },
  "language_info": {
   "name": "BraneScript"
  }
 },
 "nbformat": 4,
 "nbformat_minor": 2
}
