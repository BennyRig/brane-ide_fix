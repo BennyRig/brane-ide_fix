{
 "cells": [
  {
   "cell_type": "code",
   "execution_count": 2,
   "metadata": {
    "vscode": {
     "languageId": "plaintext"
    }
   },
   "outputs": [
    {
     "ename": "internal_execute_error",
     "evalue": "Failed to run workflow on 'grpc://central-node.nl:50053': Failed to run workflow",
     "output_type": "error",
     "traceback": []
    }
   ],
   "source": [
    "\n",
    "return 42;"
   ]
  },
  {
   "cell_type": "code",
   "execution_count": 3,
   "metadata": {
    "vscode": {
     "languageId": "plaintext"
    }
   },
   "outputs": [
    {
     "ename": "compile_error",
     "evalue": "BraneScript parse error: reached end-of-file unexpectedly (Compiler error: unkown error from parser: Nom(Eof)\n)\n",
     "output_type": "error",
     "traceback": []
    }
   ],
   "source": [
    "#[loc(\"node_1\")]\n",
    "    import hello_world;\n",
    "    println(hello_world());\n",
    "}\n"
   ]
  }
 ],
 "metadata": {
  "kernelspec": {
   "display_name": "BraneScript",
   "language": "BraneScript",
   "name": "bscript"
  },
  "language_info": {
   "codemirror_mode": "",
   "file_extension": ".bs",
   "mimetype": "application/brane-script",
   "name": "BraneScript",
   "nbconvert_exporter": "",
   "pygments_lexer": "",
   "version": "2.0.0"
  }
 },
 "nbformat": 4,
 "nbformat_minor": 2
}
